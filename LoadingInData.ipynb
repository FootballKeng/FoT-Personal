{
 "cells": [
  {
   "cell_type": "code",
   "execution_count": 37,
   "metadata": {},
   "outputs": [],
   "source": [
    "import json\n",
    "import pandas as pd\n",
    "import numpy as np"
   ]
  },
  {
   "cell_type": "code",
   "execution_count": 39,
   "metadata": {},
   "outputs": [],
   "source": [
    "# Update path to data\n",
    "\n",
    "data_path = 'Desktop/Football Analytics/Data/'\n",
    "data_provider = 'StatsBomb/data/'"
   ]
  },
  {
   "cell_type": "code",
   "execution_count": 40,
   "metadata": {},
   "outputs": [
    {
     "name": "stdout",
     "output_type": "stream",
     "text": [
      "(37, 8)\n"
     ]
    },
    {
     "data": {
      "text/plain": [
       "La Liga                    16\n",
       "Champions League           15\n",
       "FA Women's Super League     2\n",
       "NWSL                        1\n",
       "Premier League              1\n",
       "FIFA World Cup              1\n",
       "Women's World Cup           1\n",
       "Name: competition_name, dtype: int64"
      ]
     },
     "execution_count": 40,
     "metadata": {},
     "output_type": "execute_result"
    }
   ],
   "source": [
    "# Load the competitions data into a dataframe\n",
    "\n",
    "df = pd.read_json(data_path + data_provider + 'competitions.json')\n",
    "print(df.shape)\n",
    "df.competition_name.value_counts()\n",
    "#df.head()"
   ]
  },
  {
   "cell_type": "code",
   "execution_count": 41,
   "metadata": {},
   "outputs": [
    {
     "name": "stdout",
     "output_type": "stream",
     "text": [
      "72\n"
     ]
    }
   ],
   "source": [
    "# Function to get competition ID from name\n",
    "def get_competition_id (comp_name):\n",
    "    test = df[df['competition_name'] == comp_name].competition_id.unique()\n",
    "    id = ''.join(str(test))\n",
    "    return id.strip('[]')\n",
    "\n",
    "competition_id = get_competition_id(\"Women's World Cup\")\n",
    "print(competition_id)\n"
   ]
  },
  {
   "cell_type": "code",
   "execution_count": 42,
   "metadata": {},
   "outputs": [
    {
     "name": "stdout",
     "output_type": "stream",
     "text": [
      "(52, 40)\n"
     ]
    },
    {
     "data": {
      "text/html": [
       "<div>\n",
       "<style scoped>\n",
       "    .dataframe tbody tr th:only-of-type {\n",
       "        vertical-align: middle;\n",
       "    }\n",
       "\n",
       "    .dataframe tbody tr th {\n",
       "        vertical-align: top;\n",
       "    }\n",
       "\n",
       "    .dataframe thead th {\n",
       "        text-align: right;\n",
       "    }\n",
       "</style>\n",
       "<table border=\"1\" class=\"dataframe\">\n",
       "  <thead>\n",
       "    <tr style=\"text-align: right;\">\n",
       "      <th></th>\n",
       "      <th>match_id</th>\n",
       "      <th>match_date</th>\n",
       "      <th>kick_off</th>\n",
       "      <th>home_score</th>\n",
       "      <th>away_score</th>\n",
       "      <th>match_status</th>\n",
       "      <th>last_updated</th>\n",
       "      <th>match_week</th>\n",
       "      <th>competition.competition_id</th>\n",
       "      <th>competition.country_name</th>\n",
       "      <th>...</th>\n",
       "      <th>competition_stage.id</th>\n",
       "      <th>competition_stage.name</th>\n",
       "      <th>stadium.id</th>\n",
       "      <th>stadium.name</th>\n",
       "      <th>stadium.country.id</th>\n",
       "      <th>stadium.country.name</th>\n",
       "      <th>referee.id</th>\n",
       "      <th>referee.name</th>\n",
       "      <th>referee.country.id</th>\n",
       "      <th>referee.country.name</th>\n",
       "    </tr>\n",
       "  </thead>\n",
       "  <tbody>\n",
       "    <tr>\n",
       "      <th>0</th>\n",
       "      <td>69163</td>\n",
       "      <td>2019-06-24</td>\n",
       "      <td>21:00:00.000</td>\n",
       "      <td>1</td>\n",
       "      <td>0</td>\n",
       "      <td>available</td>\n",
       "      <td>2020-07-29T05:00</td>\n",
       "      <td>4</td>\n",
       "      <td>72</td>\n",
       "      <td>International</td>\n",
       "      <td>...</td>\n",
       "      <td>33</td>\n",
       "      <td>Round of 16</td>\n",
       "      <td>154.0</td>\n",
       "      <td>Parc des Princes</td>\n",
       "      <td>78.0</td>\n",
       "      <td>France</td>\n",
       "      <td>1640.0</td>\n",
       "      <td>K. Jacewicz</td>\n",
       "      <td>NaN</td>\n",
       "      <td>NaN</td>\n",
       "    </tr>\n",
       "    <tr>\n",
       "      <th>1</th>\n",
       "      <td>68346</td>\n",
       "      <td>2019-06-20</td>\n",
       "      <td>18:00:00.000</td>\n",
       "      <td>2</td>\n",
       "      <td>1</td>\n",
       "      <td>available</td>\n",
       "      <td>2020-07-29T05:00</td>\n",
       "      <td>3</td>\n",
       "      <td>72</td>\n",
       "      <td>International</td>\n",
       "      <td>...</td>\n",
       "      <td>1</td>\n",
       "      <td>Regular Season</td>\n",
       "      <td>NaN</td>\n",
       "      <td>NaN</td>\n",
       "      <td>NaN</td>\n",
       "      <td>NaN</td>\n",
       "      <td>NaN</td>\n",
       "      <td>NaN</td>\n",
       "      <td>NaN</td>\n",
       "      <td>NaN</td>\n",
       "    </tr>\n",
       "    <tr>\n",
       "      <th>2</th>\n",
       "      <td>68355</td>\n",
       "      <td>2019-06-22</td>\n",
       "      <td>17:30:00.000</td>\n",
       "      <td>3</td>\n",
       "      <td>0</td>\n",
       "      <td>available</td>\n",
       "      <td>2020-07-29T05:00</td>\n",
       "      <td>4</td>\n",
       "      <td>72</td>\n",
       "      <td>International</td>\n",
       "      <td>...</td>\n",
       "      <td>1</td>\n",
       "      <td>Regular Season</td>\n",
       "      <td>NaN</td>\n",
       "      <td>NaN</td>\n",
       "      <td>NaN</td>\n",
       "      <td>NaN</td>\n",
       "      <td>NaN</td>\n",
       "      <td>NaN</td>\n",
       "      <td>NaN</td>\n",
       "      <td>NaN</td>\n",
       "    </tr>\n",
       "    <tr>\n",
       "      <th>3</th>\n",
       "      <td>69301</td>\n",
       "      <td>2019-07-06</td>\n",
       "      <td>17:00:00.000</td>\n",
       "      <td>1</td>\n",
       "      <td>2</td>\n",
       "      <td>available</td>\n",
       "      <td>2020-07-29T05:00</td>\n",
       "      <td>7</td>\n",
       "      <td>72</td>\n",
       "      <td>International</td>\n",
       "      <td>...</td>\n",
       "      <td>25</td>\n",
       "      <td>3rd Place Final</td>\n",
       "      <td>162.0</td>\n",
       "      <td>Allianz Riviera</td>\n",
       "      <td>78.0</td>\n",
       "      <td>France</td>\n",
       "      <td>745.0</td>\n",
       "      <td>A. Pustovoitova</td>\n",
       "      <td>NaN</td>\n",
       "      <td>NaN</td>\n",
       "    </tr>\n",
       "    <tr>\n",
       "      <th>4</th>\n",
       "      <td>68311</td>\n",
       "      <td>2019-06-18</td>\n",
       "      <td>21:00:00.000</td>\n",
       "      <td>1</td>\n",
       "      <td>4</td>\n",
       "      <td>available</td>\n",
       "      <td>2020-07-29T05:00</td>\n",
       "      <td>3</td>\n",
       "      <td>72</td>\n",
       "      <td>International</td>\n",
       "      <td>...</td>\n",
       "      <td>1</td>\n",
       "      <td>Regular Season</td>\n",
       "      <td>NaN</td>\n",
       "      <td>NaN</td>\n",
       "      <td>NaN</td>\n",
       "      <td>NaN</td>\n",
       "      <td>NaN</td>\n",
       "      <td>NaN</td>\n",
       "      <td>NaN</td>\n",
       "      <td>NaN</td>\n",
       "    </tr>\n",
       "  </tbody>\n",
       "</table>\n",
       "<p>5 rows × 40 columns</p>\n",
       "</div>"
      ],
      "text/plain": [
       "   match_id  match_date      kick_off  home_score  away_score match_status  \\\n",
       "0     69163  2019-06-24  21:00:00.000           1           0    available   \n",
       "1     68346  2019-06-20  18:00:00.000           2           1    available   \n",
       "2     68355  2019-06-22  17:30:00.000           3           0    available   \n",
       "3     69301  2019-07-06  17:00:00.000           1           2    available   \n",
       "4     68311  2019-06-18  21:00:00.000           1           4    available   \n",
       "\n",
       "       last_updated  match_week  competition.competition_id  \\\n",
       "0  2020-07-29T05:00           4                          72   \n",
       "1  2020-07-29T05:00           3                          72   \n",
       "2  2020-07-29T05:00           4                          72   \n",
       "3  2020-07-29T05:00           7                          72   \n",
       "4  2020-07-29T05:00           3                          72   \n",
       "\n",
       "  competition.country_name  ... competition_stage.id  competition_stage.name  \\\n",
       "0            International  ...                   33             Round of 16   \n",
       "1            International  ...                    1          Regular Season   \n",
       "2            International  ...                    1          Regular Season   \n",
       "3            International  ...                   25         3rd Place Final   \n",
       "4            International  ...                    1          Regular Season   \n",
       "\n",
       "  stadium.id      stadium.name stadium.country.id stadium.country.name  \\\n",
       "0      154.0  Parc des Princes               78.0               France   \n",
       "1        NaN               NaN                NaN                  NaN   \n",
       "2        NaN               NaN                NaN                  NaN   \n",
       "3      162.0   Allianz Riviera               78.0               France   \n",
       "4        NaN               NaN                NaN                  NaN   \n",
       "\n",
       "  referee.id     referee.name referee.country.id referee.country.name  \n",
       "0     1640.0      K. Jacewicz                NaN                  NaN  \n",
       "1        NaN              NaN                NaN                  NaN  \n",
       "2        NaN              NaN                NaN                  NaN  \n",
       "3      745.0  A. Pustovoitova                NaN                  NaN  \n",
       "4        NaN              NaN                NaN                  NaN  \n",
       "\n",
       "[5 rows x 40 columns]"
      ]
     },
     "execution_count": 42,
     "metadata": {},
     "output_type": "execute_result"
    }
   ],
   "source": [
    "with open(data_path + data_provider + 'matches/' + str(competition_id) + '/30.json') as f:\n",
    "    matches = json.load(f)\n",
    "# matches\n",
    "\n",
    "df_matches = pd.json_normalize(matches, record_prefix=None)\n",
    "print(df_matches.shape)\n",
    "df_matches.head()"
   ]
  },
  {
   "cell_type": "code",
   "execution_count": 43,
   "metadata": {},
   "outputs": [
    {
     "data": {
      "text/plain": [
       "Index(['match_id', 'match_date', 'kick_off', 'home_score', 'away_score',\n",
       "       'match_status', 'last_updated', 'match_week',\n",
       "       'competition.competition_id', 'competition.country_name',\n",
       "       'competition.competition_name', 'season.season_id',\n",
       "       'season.season_name', 'home_team.home_team_id',\n",
       "       'home_team.home_team_name', 'home_team.home_team_gender',\n",
       "       'home_team.home_team_group', 'home_team.country.id',\n",
       "       'home_team.country.name', 'home_team.managers',\n",
       "       'away_team.away_team_id', 'away_team.away_team_name',\n",
       "       'away_team.away_team_gender', 'away_team.away_team_group',\n",
       "       'away_team.country.id', 'away_team.country.name', 'away_team.managers',\n",
       "       'metadata.data_version', 'metadata.shot_fidelity_version',\n",
       "       'metadata.xy_fidelity_version', 'competition_stage.id',\n",
       "       'competition_stage.name', 'stadium.id', 'stadium.name',\n",
       "       'stadium.country.id', 'stadium.country.name', 'referee.id',\n",
       "       'referee.name', 'referee.country.id', 'referee.country.name'],\n",
       "      dtype='object')"
      ]
     },
     "execution_count": 43,
     "metadata": {},
     "output_type": "execute_result"
    }
   ],
   "source": [
    "df_matches.columns"
   ]
  },
  {
   "cell_type": "code",
   "execution_count": 44,
   "metadata": {},
   "outputs": [],
   "source": [
    "# df_matches.info()"
   ]
  },
  {
   "cell_type": "code",
   "execution_count": 45,
   "metadata": {},
   "outputs": [
    {
     "name": "stdout",
     "output_type": "stream",
     "text": [
      "Sweden Women's 1 - Canada Women's 0\n",
      "Cameroon Women's 2 - New Zealand Women's 1\n",
      "Germany Women's 3 - Nigeria Women's 0\n",
      "England Women's 1 - Sweden Women's 2\n",
      "Jamaica Women's 1 - Australia Women's 4\n",
      "Italy Women's 0 - Netherlands Women's 2\n",
      "France Women's 2 - Brazil Women's 1\n",
      "Germany Women's 1 - Sweden Women's 2\n",
      "England Women's 2 - Scotland Women's 1\n",
      "Sweden Women's 5 - Thailand Women's 1\n",
      "Japan Women's 0 - England Women's 2\n",
      "Korea Republic Women's 1 - Norway Women's 2\n",
      "United States Women's 3 - Chile Women's 0\n",
      "Norway Women's 1 - Australia Women's 1\n",
      "Norway Women's 3 - Nigeria Women's 0\n",
      "United States Women's 2 - Netherlands Women's 0\n",
      "China PR Women's 0 - Spain Women's 0\n",
      "Italy Women's 0 - Brazil Women's 1\n",
      "France Women's 4 - Korea Republic Women's 0\n",
      "Germany Women's 1 - China PR Women's 0\n",
      "Spain Women's 3 - South Africa Women's 1\n",
      "Australia Women's 1 - Italy Women's 2\n",
      "Brazil Women's 3 - Jamaica Women's 0\n",
      "Canada Women's 1 - Cameroon Women's 0\n",
      "Argentina Women's 0 - Japan Women's 0\n",
      "France Women's 1 - United States Women's 2\n",
      "New Zealand Women's 0 - Netherlands Women's 1\n",
      "United States Women's 13 - Thailand Women's 0\n",
      "Chile Women's 0 - Sweden Women's 2\n",
      "Nigeria Women's 2 - Korea Republic Women's 0\n",
      "France Women's 2 - Norway Women's 1\n",
      "Germany Women's 1 - Spain Women's 0\n",
      "South Africa Women's 0 - China PR Women's 1\n",
      "Australia Women's 3 - Brazil Women's 2\n",
      "England Women's 1 - Argentina Women's 0\n",
      "Jamaica Women's 0 - Italy Women's 5\n",
      "Japan Women's 2 - Scotland Women's 1\n",
      "Netherlands Women's 3 - Cameroon Women's 1\n",
      "Canada Women's 2 - New Zealand Women's 0\n",
      "Nigeria Women's 0 - France Women's 1\n",
      "South Africa Women's 0 - Germany Women's 4\n",
      "Scotland Women's 3 - Argentina Women's 3\n",
      "Thailand Women's 0 - Chile Women's 2\n",
      "Netherlands Women's 2 - Canada Women's 1\n",
      "Sweden Women's 0 - United States Women's 2\n",
      "England Women's 3 - Cameroon Women's 0\n",
      "Spain Women's 1 - United States Women's 2\n",
      "Italy Women's 2 - China PR Women's 0\n",
      "Netherlands Women's 2 - Japan Women's 1\n",
      "Norway Women's 0 - England Women's 3\n",
      "England Women's 1 - United States Women's 2\n",
      "Netherlands Women's 1 - Sweden Women's 0\n"
     ]
    }
   ],
   "source": [
    "# Retrieving scorelines from each match\n",
    "\n",
    "for index, match in df_matches.iterrows():\n",
    "    print(match['home_team.home_team_name'] + ' ' + str(match['home_score']) + ' - ' + \n",
    "          match['away_team.away_team_name'] + ' ' + str(match['away_score']))\n",
    "    if ((match['home_team.home_team_name'] == \"England Women's\") & \n",
    "        (match['away_team.away_team_name'] == \"Sweden Women's\")):\n",
    "        req_match_id = match['match_id']\n"
   ]
  },
  {
   "cell_type": "code",
   "execution_count": 46,
   "metadata": {},
   "outputs": [
    {
     "name": "stdout",
     "output_type": "stream",
     "text": [
      "69301\n"
     ]
    }
   ],
   "source": [
    "# Match ID for England W v Sweden W\n",
    "print(req_match_id)"
   ]
  },
  {
   "cell_type": "code",
   "execution_count": 47,
   "metadata": {},
   "outputs": [
    {
     "name": "stdout",
     "output_type": "stream",
     "text": [
      "Sweden Women's 1 - Canada Women's 0\n",
      "England Women's 1 - Sweden Women's 2\n",
      "Germany Women's 1 - Sweden Women's 2\n",
      "Sweden Women's 5 - Thailand Women's 1\n",
      "Chile Women's 0 - Sweden Women's 2\n",
      "Sweden Women's 0 - United States Women's 2\n",
      "Netherlands Women's 1 - Sweden Women's 0\n"
     ]
    }
   ],
   "source": [
    "# Retrieving only Sweden W results\n",
    "for index, match in df_matches.iterrows():\n",
    "    if ((match['home_team.home_team_name'] == \"Sweden Women's\") | \n",
    "        (match['away_team.away_team_name'] == \"Sweden Women's\")):\n",
    "        print(match['home_team.home_team_name'] + ' ' + str(match['home_score']) + ' - ' + \n",
    "              match['away_team.away_team_name'] + ' ' + str(match['away_score'])) \n"
   ]
  },
  {
   "cell_type": "code",
   "execution_count": null,
   "metadata": {},
   "outputs": [],
   "source": []
  },
  {
   "cell_type": "code",
   "execution_count": 48,
   "metadata": {},
   "outputs": [
    {
     "name": "stdout",
     "output_type": "stream",
     "text": [
      "43\n"
     ]
    }
   ],
   "source": [
    "# Retrieving scorelines for FIFA Men's World Cup\n",
    "\n",
    "competition_id = get_competition_id(\"FIFA World Cup\")\n",
    "print(competition_id)"
   ]
  },
  {
   "cell_type": "code",
   "execution_count": 49,
   "metadata": {},
   "outputs": [
    {
     "name": "stdout",
     "output_type": "stream",
     "text": [
      "Croatia 1 - Denmark 1\n",
      "Nigeria 2 - Iceland 0\n",
      "Poland 0 - Colombia 3\n",
      "Croatia 2 - Nigeria 0\n",
      "Brazil 2 - Costa Rica 0\n",
      "Germany 0 - Mexico 1\n",
      "Australia 0 - Peru 2\n",
      "Serbia 0 - Brazil 2\n",
      "Senegal 0 - Colombia 1\n",
      "Panama 1 - Tunisia 2\n",
      "Switzerland 2 - Costa Rica 2\n",
      "France 2 - Australia 1\n",
      "Uruguay 3 - Russia 0\n",
      "Brazil 2 - Mexico 0\n",
      "Russia 2 - Croatia 2\n",
      "Denmark 1 - Australia 1\n",
      "Costa Rica 0 - Serbia 1\n",
      "France 1 - Peru 0\n",
      "Belgium 3 - Japan 2\n",
      "Belgium 3 - Panama 0\n",
      "Argentina 0 - Croatia 3\n",
      "France 4 - Argentina 3\n",
      "Brazil 1 - Belgium 2\n",
      "Uruguay 0 - France 2\n",
      "France 4 - Croatia 2\n",
      "Iceland 1 - Croatia 2\n",
      "Poland 1 - Senegal 2\n",
      "Denmark 0 - France 0\n",
      "Egypt 0 - Uruguay 1\n",
      "Argentina 1 - Iceland 1\n",
      "Spain 1 - Russia 1\n",
      "Belgium 5 - Tunisia 2\n",
      "Peru 0 - Denmark 1\n",
      "Uruguay 1 - Saudi Arabia 0\n",
      "Serbia 1 - Switzerland 2\n",
      "South Korea 1 - Mexico 2\n",
      "Spain 2 - Morocco 2\n",
      "Brazil 1 - Switzerland 1\n",
      "Nigeria 1 - Argentina 2\n",
      "Saudi Arabia 2 - Egypt 1\n",
      "Japan 2 - Senegal 2\n",
      "Uruguay 2 - Portugal 1\n",
      "Japan 0 - Poland 1\n",
      "Morocco 0 - Iran 1\n",
      "Iran 0 - Spain 1\n",
      "Russia 5 - Saudi Arabia 0\n",
      "Tunisia 1 - England 2\n",
      "Sweden 1 - South Korea 0\n",
      "Portugal 3 - Spain 3\n",
      "Portugal 1 - Morocco 0\n",
      "Mexico 0 - Sweden 3\n",
      "Iran 1 - Portugal 1\n",
      "England 6 - Panama 1\n",
      "England 0 - Belgium 1\n",
      "Colombia 1 - England 1\n",
      "Sweden 1 - Switzerland 0\n",
      "Croatia 2 - England 1\n",
      "Sweden 0 - England 2\n",
      "South Korea 2 - Germany 0\n",
      "Colombia 1 - Japan 2\n",
      "France 1 - Belgium 0\n",
      "Belgium 2 - England 0\n",
      "Russia 3 - Egypt 1\n",
      "Germany 2 - Sweden 1\n"
     ]
    }
   ],
   "source": [
    "with open(data_path + data_provider + 'matches/' + str(competition_id) + '/3.json') as f:\n",
    "    matches = json.load(f)\n",
    "# matches\n",
    "\n",
    "df_matches = pd.json_normalize(matches, record_prefix=None)\n",
    "# print(df_matches.shape)\n",
    "\n",
    "for index, match in df_matches.iterrows():\n",
    "    print(match['home_team.home_team_name'] + ' ' + str(match['home_score']) + ' - ' + \n",
    "          match['away_team.away_team_name'] + ' ' + str(match['away_score']))"
   ]
  },
  {
   "cell_type": "code",
   "execution_count": null,
   "metadata": {},
   "outputs": [],
   "source": []
  }
 ],
 "metadata": {
  "kernelspec": {
   "display_name": "Python 3",
   "language": "python",
   "name": "python3"
  },
  "language_info": {
   "codemirror_mode": {
    "name": "ipython",
    "version": 3
   },
   "file_extension": ".py",
   "mimetype": "text/x-python",
   "name": "python",
   "nbconvert_exporter": "python",
   "pygments_lexer": "ipython3",
   "version": "3.8.3"
  }
 },
 "nbformat": 4,
 "nbformat_minor": 4
}
