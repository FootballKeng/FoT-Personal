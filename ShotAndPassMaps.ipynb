{
 "cells": [
  {
   "cell_type": "code",
   "execution_count": 278,
   "metadata": {},
   "outputs": [],
   "source": [
    "import matplotlib.pyplot as plt\n",
    "import numpy as np\n",
    "import pandas as pd\n",
    "import json"
   ]
  },
  {
   "cell_type": "code",
   "execution_count": 279,
   "metadata": {},
   "outputs": [],
   "source": [
    "# To plot pass/shot maps, you need to get event data from the particular match\n",
    "\n",
    "match_id = 69301 # Match ID for England W v Sweden W"
   ]
  },
  {
   "cell_type": "code",
   "execution_count": 280,
   "metadata": {},
   "outputs": [],
   "source": [
    "# Update path to data\n",
    "\n",
    "data_path = 'Desktop/Football Analytics/Data/'\n",
    "data_provider = 'StatsBomb/data/'"
   ]
  },
  {
   "cell_type": "code",
   "execution_count": 281,
   "metadata": {},
   "outputs": [
    {
     "name": "stdout",
     "output_type": "stream",
     "text": [
      "(3291, 119)\n"
     ]
    },
    {
     "data": {
      "text/html": [
       "<div>\n",
       "<style scoped>\n",
       "    .dataframe tbody tr th:only-of-type {\n",
       "        vertical-align: middle;\n",
       "    }\n",
       "\n",
       "    .dataframe tbody tr th {\n",
       "        vertical-align: top;\n",
       "    }\n",
       "\n",
       "    .dataframe thead th {\n",
       "        text-align: right;\n",
       "    }\n",
       "</style>\n",
       "<table border=\"1\" class=\"dataframe\">\n",
       "  <thead>\n",
       "    <tr style=\"text-align: right;\">\n",
       "      <th></th>\n",
       "      <th>id</th>\n",
       "      <th>index</th>\n",
       "      <th>period</th>\n",
       "      <th>timestamp</th>\n",
       "      <th>minute</th>\n",
       "      <th>second</th>\n",
       "      <th>possession</th>\n",
       "      <th>duration</th>\n",
       "      <th>type.id</th>\n",
       "      <th>type.name</th>\n",
       "      <th>...</th>\n",
       "      <th>pass.cut_back</th>\n",
       "      <th>bad_behaviour.card.id</th>\n",
       "      <th>bad_behaviour.card.name</th>\n",
       "      <th>pass.no_touch</th>\n",
       "      <th>pass.straight</th>\n",
       "      <th>block.save_block</th>\n",
       "      <th>foul_committed.advantage</th>\n",
       "      <th>foul_won.advantage</th>\n",
       "      <th>foul_committed.card.id</th>\n",
       "      <th>foul_committed.card.name</th>\n",
       "    </tr>\n",
       "  </thead>\n",
       "  <tbody>\n",
       "    <tr>\n",
       "      <th>0</th>\n",
       "      <td>e8643796-c76d-44f5-a03d-fa742e051942</td>\n",
       "      <td>1</td>\n",
       "      <td>1</td>\n",
       "      <td>00:00:00.000</td>\n",
       "      <td>0</td>\n",
       "      <td>0</td>\n",
       "      <td>1</td>\n",
       "      <td>0.00000</td>\n",
       "      <td>35</td>\n",
       "      <td>Starting XI</td>\n",
       "      <td>...</td>\n",
       "      <td>NaN</td>\n",
       "      <td>NaN</td>\n",
       "      <td>NaN</td>\n",
       "      <td>NaN</td>\n",
       "      <td>NaN</td>\n",
       "      <td>NaN</td>\n",
       "      <td>NaN</td>\n",
       "      <td>NaN</td>\n",
       "      <td>NaN</td>\n",
       "      <td>NaN</td>\n",
       "    </tr>\n",
       "    <tr>\n",
       "      <th>1</th>\n",
       "      <td>937f83f8-674d-4c58-81d5-e2101a9f2e60</td>\n",
       "      <td>2</td>\n",
       "      <td>1</td>\n",
       "      <td>00:00:00.000</td>\n",
       "      <td>0</td>\n",
       "      <td>0</td>\n",
       "      <td>1</td>\n",
       "      <td>0.00000</td>\n",
       "      <td>35</td>\n",
       "      <td>Starting XI</td>\n",
       "      <td>...</td>\n",
       "      <td>NaN</td>\n",
       "      <td>NaN</td>\n",
       "      <td>NaN</td>\n",
       "      <td>NaN</td>\n",
       "      <td>NaN</td>\n",
       "      <td>NaN</td>\n",
       "      <td>NaN</td>\n",
       "      <td>NaN</td>\n",
       "      <td>NaN</td>\n",
       "      <td>NaN</td>\n",
       "    </tr>\n",
       "    <tr>\n",
       "      <th>2</th>\n",
       "      <td>87ba272a-3af0-4fc7-872f-65e8f79fb753</td>\n",
       "      <td>3</td>\n",
       "      <td>1</td>\n",
       "      <td>00:00:00.000</td>\n",
       "      <td>0</td>\n",
       "      <td>0</td>\n",
       "      <td>1</td>\n",
       "      <td>0.00000</td>\n",
       "      <td>18</td>\n",
       "      <td>Half Start</td>\n",
       "      <td>...</td>\n",
       "      <td>NaN</td>\n",
       "      <td>NaN</td>\n",
       "      <td>NaN</td>\n",
       "      <td>NaN</td>\n",
       "      <td>NaN</td>\n",
       "      <td>NaN</td>\n",
       "      <td>NaN</td>\n",
       "      <td>NaN</td>\n",
       "      <td>NaN</td>\n",
       "      <td>NaN</td>\n",
       "    </tr>\n",
       "    <tr>\n",
       "      <th>3</th>\n",
       "      <td>85d30bef-8b77-405e-bc64-c63ed4d7a6d7</td>\n",
       "      <td>4</td>\n",
       "      <td>1</td>\n",
       "      <td>00:00:00.000</td>\n",
       "      <td>0</td>\n",
       "      <td>0</td>\n",
       "      <td>1</td>\n",
       "      <td>0.00000</td>\n",
       "      <td>18</td>\n",
       "      <td>Half Start</td>\n",
       "      <td>...</td>\n",
       "      <td>NaN</td>\n",
       "      <td>NaN</td>\n",
       "      <td>NaN</td>\n",
       "      <td>NaN</td>\n",
       "      <td>NaN</td>\n",
       "      <td>NaN</td>\n",
       "      <td>NaN</td>\n",
       "      <td>NaN</td>\n",
       "      <td>NaN</td>\n",
       "      <td>NaN</td>\n",
       "    </tr>\n",
       "    <tr>\n",
       "      <th>4</th>\n",
       "      <td>760528a6-2de2-427f-9795-b2b19819ef1f</td>\n",
       "      <td>5</td>\n",
       "      <td>1</td>\n",
       "      <td>00:00:00.140</td>\n",
       "      <td>0</td>\n",
       "      <td>0</td>\n",
       "      <td>2</td>\n",
       "      <td>0.16873</td>\n",
       "      <td>30</td>\n",
       "      <td>Pass</td>\n",
       "      <td>...</td>\n",
       "      <td>NaN</td>\n",
       "      <td>NaN</td>\n",
       "      <td>NaN</td>\n",
       "      <td>NaN</td>\n",
       "      <td>NaN</td>\n",
       "      <td>NaN</td>\n",
       "      <td>NaN</td>\n",
       "      <td>NaN</td>\n",
       "      <td>NaN</td>\n",
       "      <td>NaN</td>\n",
       "    </tr>\n",
       "  </tbody>\n",
       "</table>\n",
       "<p>5 rows × 119 columns</p>\n",
       "</div>"
      ],
      "text/plain": [
       "                                     id  index  period     timestamp  minute  \\\n",
       "0  e8643796-c76d-44f5-a03d-fa742e051942      1       1  00:00:00.000       0   \n",
       "1  937f83f8-674d-4c58-81d5-e2101a9f2e60      2       1  00:00:00.000       0   \n",
       "2  87ba272a-3af0-4fc7-872f-65e8f79fb753      3       1  00:00:00.000       0   \n",
       "3  85d30bef-8b77-405e-bc64-c63ed4d7a6d7      4       1  00:00:00.000       0   \n",
       "4  760528a6-2de2-427f-9795-b2b19819ef1f      5       1  00:00:00.140       0   \n",
       "\n",
       "   second  possession  duration  type.id    type.name  ...  pass.cut_back  \\\n",
       "0       0           1   0.00000       35  Starting XI  ...            NaN   \n",
       "1       0           1   0.00000       35  Starting XI  ...            NaN   \n",
       "2       0           1   0.00000       18   Half Start  ...            NaN   \n",
       "3       0           1   0.00000       18   Half Start  ...            NaN   \n",
       "4       0           2   0.16873       30         Pass  ...            NaN   \n",
       "\n",
       "  bad_behaviour.card.id  bad_behaviour.card.name pass.no_touch  pass.straight  \\\n",
       "0                   NaN                      NaN           NaN            NaN   \n",
       "1                   NaN                      NaN           NaN            NaN   \n",
       "2                   NaN                      NaN           NaN            NaN   \n",
       "3                   NaN                      NaN           NaN            NaN   \n",
       "4                   NaN                      NaN           NaN            NaN   \n",
       "\n",
       "  block.save_block  foul_committed.advantage foul_won.advantage  \\\n",
       "0              NaN                       NaN                NaN   \n",
       "1              NaN                       NaN                NaN   \n",
       "2              NaN                       NaN                NaN   \n",
       "3              NaN                       NaN                NaN   \n",
       "4              NaN                       NaN                NaN   \n",
       "\n",
       "  foul_committed.card.id foul_committed.card.name  \n",
       "0                    NaN                      NaN  \n",
       "1                    NaN                      NaN  \n",
       "2                    NaN                      NaN  \n",
       "3                    NaN                      NaN  \n",
       "4                    NaN                      NaN  \n",
       "\n",
       "[5 rows x 119 columns]"
      ]
     },
     "execution_count": 281,
     "metadata": {},
     "output_type": "execute_result"
    }
   ],
   "source": [
    "# Load event data from the specific match\n",
    "\n",
    "with open(data_path + data_provider + 'events/' + str(match_id) + '.json') as f:\n",
    "    events = json.load(f)\n",
    "# events\n",
    "\n",
    "df_events = pd.json_normalize(events, record_prefix=None)\n",
    "print(df_events.shape)\n",
    "df_events.head()"
   ]
  },
  {
   "cell_type": "code",
   "execution_count": 282,
   "metadata": {},
   "outputs": [
    {
     "name": "stdout",
     "output_type": "stream",
     "text": [
      "id\n",
      "index\n",
      "period\n",
      "timestamp\n",
      "minute\n",
      "second\n",
      "possession\n",
      "duration\n",
      "type.id\n",
      "type.name\n",
      "possession_team.id\n",
      "possession_team.name\n",
      "play_pattern.id\n",
      "play_pattern.name\n",
      "team.id\n",
      "team.name\n",
      "tactics.formation\n",
      "tactics.lineup\n",
      "related_events\n",
      "location\n",
      "player.id\n",
      "player.name\n",
      "position.id\n",
      "position.name\n",
      "pass.recipient.id\n",
      "pass.recipient.name\n",
      "pass.length\n",
      "pass.angle\n",
      "pass.height.id\n",
      "pass.height.name\n",
      "pass.end_location\n",
      "pass.body_part.id\n",
      "pass.body_part.name\n",
      "pass.type.id\n",
      "pass.type.name\n",
      "under_pressure\n",
      "carry.end_location\n",
      "pass.outcome.id\n",
      "pass.outcome.name\n",
      "ball_receipt.outcome.id\n",
      "ball_receipt.outcome.name\n",
      "out\n",
      "clearance.left_foot\n",
      "clearance.body_part.id\n",
      "clearance.body_part.name\n",
      "duel.type.id\n",
      "duel.type.name\n",
      "duel.outcome.id\n",
      "duel.outcome.name\n",
      "counterpress\n",
      "pass.deflected\n",
      "dribble.outcome.id\n",
      "dribble.outcome.name\n",
      "pass.switch\n",
      "interception.outcome.id\n",
      "interception.outcome.name\n",
      "pass.inswinging\n",
      "pass.technique.id\n",
      "pass.technique.name\n",
      "clearance.head\n",
      "pass.cross\n",
      "goalkeeper.type.id\n",
      "goalkeeper.type.name\n",
      "goalkeeper.outcome.id\n",
      "goalkeeper.outcome.name\n",
      "off_camera\n",
      "clearance.other\n",
      "clearance.right_foot\n",
      "shot.statsbomb_xg\n",
      "shot.end_location\n",
      "shot.technique.id\n",
      "shot.technique.name\n",
      "shot.body_part.id\n",
      "shot.body_part.name\n",
      "shot.type.id\n",
      "shot.type.name\n",
      "shot.outcome.id\n",
      "shot.outcome.name\n",
      "shot.first_time\n",
      "shot.freeze_frame\n",
      "goalkeeper.position.id\n",
      "goalkeeper.position.name\n",
      "goalkeeper.body_part.id\n",
      "goalkeeper.body_part.name\n",
      "goalkeeper.technique.id\n",
      "goalkeeper.technique.name\n",
      "ball_recovery.recovery_failure\n",
      "pass.assisted_shot_id\n",
      "pass.shot_assist\n",
      "pass.through_ball\n",
      "shot.key_pass_id\n",
      "shot.saved_to_post\n",
      "goalkeeper.shot_saved_to_post\n",
      "foul_won.defensive\n",
      "clearance.aerial_won\n",
      "pass.goal_assist\n",
      "substitution.outcome.id\n",
      "substitution.outcome.name\n",
      "substitution.replacement.id\n",
      "substitution.replacement.name\n",
      "miscontrol.aerial_won\n",
      "pass.aerial_won\n",
      "foul_committed.offensive\n",
      "foul_committed.type.id\n",
      "foul_committed.type.name\n",
      "shot.one_on_one\n",
      "goalkeeper.end_location\n",
      "dribble.overrun\n",
      "block.deflection\n",
      "pass.cut_back\n",
      "bad_behaviour.card.id\n",
      "bad_behaviour.card.name\n",
      "pass.no_touch\n",
      "pass.straight\n",
      "block.save_block\n",
      "foul_committed.advantage\n",
      "foul_won.advantage\n",
      "foul_committed.card.id\n",
      "foul_committed.card.name\n"
     ]
    }
   ],
   "source": [
    "cols = df_events.columns\n",
    "for i in cols:\n",
    "    print(i)"
   ]
  },
  {
   "cell_type": "code",
   "execution_count": 283,
   "metadata": {},
   "outputs": [
    {
     "data": {
      "text/plain": [
       "Pass               921\n",
       "Ball Receipt*      834\n",
       "Carry              765\n",
       "Pressure           236\n",
       "Ball Recovery      126\n",
       "Duel                72\n",
       "Clearance           57\n",
       "Block               41\n",
       "Dispossessed        35\n",
       "Goal Keeper         29\n",
       "Miscontrol          25\n",
       "Dribble             25\n",
       "Foul Committed      23\n",
       "Shot                19\n",
       "Foul Won            19\n",
       "Interception        19\n",
       "Dribbled Past       18\n",
       "Substitution         6\n",
       "Injury Stoppage      6\n",
       "Half End             4\n",
       "Half Start           4\n",
       "Tactical Shift       2\n",
       "Error                2\n",
       "Starting XI          2\n",
       "Bad Behaviour        1\n",
       "Name: type.name, dtype: int64"
      ]
     },
     "execution_count": 283,
     "metadata": {},
     "output_type": "execute_result"
    }
   ],
   "source": [
    "df_events['type.name'].value_counts()"
   ]
  },
  {
   "cell_type": "code",
   "execution_count": 284,
   "metadata": {},
   "outputs": [
    {
     "name": "stdout",
     "output_type": "stream",
     "text": [
      "(921, 119)\n",
      "(19, 119)\n"
     ]
    }
   ],
   "source": [
    "# Extract passes and shots into separate dataframes\n",
    "\n",
    "df_passes = df_events[df_events['type.name'] == 'Pass']\n",
    "df_shots = df_events[df_events['type.name'] == 'Shot']\n",
    "\n",
    "print(df_passes.shape)\n",
    "print(df_shots.shape)"
   ]
  },
  {
   "cell_type": "code",
   "execution_count": 285,
   "metadata": {},
   "outputs": [],
   "source": [
    "# The column location indicates the starting location of the event"
   ]
  },
  {
   "cell_type": "code",
   "execution_count": 286,
   "metadata": {},
   "outputs": [
    {
     "name": "stdout",
     "output_type": "stream",
     "text": [
      "['shot.statsbomb_xg', 'shot.end_location', 'shot.technique.id', 'shot.technique.name', 'shot.body_part.id', 'shot.body_part.name', 'shot.type.id', 'shot.type.name', 'shot.outcome.id', 'shot.outcome.name', 'shot.first_time', 'shot.freeze_frame', 'shot.key_pass_id', 'shot.saved_to_post', 'shot.one_on_one']\n"
     ]
    }
   ],
   "source": [
    "shot_cols = [i for i in df_shots.columns if i.startswith('shot')]\n",
    "print(shot_cols)"
   ]
  },
  {
   "cell_type": "code",
   "execution_count": 287,
   "metadata": {},
   "outputs": [
    {
     "data": {
      "text/plain": [
       "Saved            7\n",
       "Off T            4\n",
       "Goal             3\n",
       "Blocked          3\n",
       "Wayward          1\n",
       "Saved to Post    1\n",
       "Name: shot.outcome.name, dtype: int64"
      ]
     },
     "execution_count": 287,
     "metadata": {},
     "output_type": "execute_result"
    }
   ],
   "source": [
    "df_shots['shot.outcome.name'].value_counts()"
   ]
  },
  {
   "cell_type": "code",
   "execution_count": 288,
   "metadata": {
    "scrolled": true
   },
   "outputs": [
    {
     "data": {
      "text/plain": [
       "339     [104.7, 45.5]\n",
       "530     [110.9, 53.1]\n",
       "719     [107.8, 26.1]\n",
       "741      [93.7, 51.1]\n",
       "955     [108.0, 52.7]\n",
       "1326     [83.6, 47.1]\n",
       "1484    [105.4, 25.5]\n",
       "1576    [108.4, 53.3]\n",
       "1782     [84.3, 31.3]\n",
       "1794     [81.9, 35.2]\n",
       "2011     [88.6, 39.9]\n",
       "2204    [117.5, 48.2]\n",
       "2261     [63.1, 79.4]\n",
       "2325     [95.7, 39.3]\n",
       "2961     [82.9, 38.3]\n",
       "3093    [102.9, 51.5]\n",
       "3119    [107.0, 37.7]\n",
       "3168     [89.3, 33.5]\n",
       "3196    [109.0, 33.4]\n",
       "Name: location, dtype: object"
      ]
     },
     "execution_count": 288,
     "metadata": {},
     "output_type": "execute_result"
    }
   ],
   "source": [
    "df_shots['location']"
   ]
  },
  {
   "cell_type": "code",
   "execution_count": null,
   "metadata": {},
   "outputs": [],
   "source": []
  },
  {
   "cell_type": "code",
   "execution_count": 289,
   "metadata": {},
   "outputs": [
    {
     "data": {
      "image/png": "[encoded data removed]",
      "text/plain": [
       "<Figure size 720x432 with 1 Axes>"
      ]
     },
     "metadata": {},
     "output_type": "display_data"
    }
   ],
   "source": [
    "# Football PitchViz\n",
    "\n",
    "from mplsoccer.pitch import Pitch\n",
    "\n",
    "# Setup the pitch\n",
    "pitch1 = Pitch(pitch_type='statsbomb', orientation='horizontal',\n",
    "              pitch_color='#22312b', line_color='#c7d5cc', figsize=(10, 6),\n",
    "              constrained_layout=False, tight_layout=True)\n",
    "\n",
    "# StatsBomb Pitch Dimensions in yards - 120 x 80\n",
    "fig1, ax1 = pitch1.draw()\n"
   ]
  },
  {
   "cell_type": "code",
   "execution_count": null,
   "metadata": {},
   "outputs": [],
   "source": []
  },
  {
   "cell_type": "code",
   "execution_count": 329,
   "metadata": {},
   "outputs": [
    {
     "data": {
      "image/png": "[encoded data removed]",
      "text/plain": [
       "<Figure size 720x432 with 1 Axes>"
      ]
     },
     "metadata": {},
     "output_type": "display_data"
    }
   ],
   "source": [
    "# Football PitchViz\n",
    "\n",
    "from mplsoccer.pitch import Pitch\n",
    "\n",
    "# Setup the pitch\n",
    "pitch = Pitch(pitch_type='statsbomb', orientation='horizontal',\n",
    "              pitch_color='w', line_color='grey', figsize=(10, 6),\n",
    "              constrained_layout=False, tight_layout=True)\n",
    "\n",
    "# StatsBomb Pitch Dimensions in yards - 120 x 80\n",
    "fig, ax = pitch.draw()"
   ]
  },
  {
   "cell_type": "code",
   "execution_count": 330,
   "metadata": {},
   "outputs": [
    {
     "data": {
      "image/png": "[encoded data removed]",
      "text/plain": [
       "<Figure size 720x432 with 1 Axes>"
      ]
     },
     "metadata": {},
     "output_type": "display_data"
    }
   ],
   "source": [
    "# Define Home (Red) and Away (Blue) Teams\n",
    "\n",
    "home_team = \"England Women's\"\n",
    "away_team = \"Sweden Women's\"\n",
    "\n",
    "# StatsBomb Pitch Dimensions in yards\n",
    "\n",
    "plX = 120\n",
    "pwY = 80\n",
    "\n",
    "# StatsBomb Pitch Dimensions in yards - 120 x 80\n",
    "\n",
    "fig, ax = pitch.draw()\n",
    "\n",
    "# Plot shot location coordinates. Also, size the shots proprotional to xG\n",
    "# Annotate with Goal scorer names\n",
    "\n",
    "plt.title(\"Shot Map - Women's World Cup\", color='k', fontweight='bold')\n",
    "plt.text(20, 10, \"Sweden\" , color='b', fontweight='bold')\n",
    "plt.text(90, 10, \"England\" , color='r', fontweight='bold')\n",
    "\n",
    "for index, shot in df_shots.iterrows():\n",
    "    x = shot['location'][0]\n",
    "    y = shot['location'][1]\n",
    "    r = np.sqrt(shot['shot.statsbomb_xg'] * 15) # Radius of circle\n",
    "    if shot['team.name'] == home_team:\n",
    "        if shot['shot.outcome.name'] == 'Goal':\n",
    "            circle = plt.Circle((x, y), r, color='r', alpha=1)\n",
    "            plt.text(x + 1, y, shot['player.name'], color='k')\n",
    "        else:\n",
    "            circle = plt.Circle((x, y), r, color='r', alpha=0.2)\n",
    "    elif shot['team.name'] == away_team:\n",
    "        if shot['shot.outcome.name'] == 'Goal':\n",
    "            circle = plt.Circle((plX - x, pwY - y), r, color='b')\n",
    "            plt.text(plX - x + 1, pwY - y, shot['player.name'], color='k')\n",
    "        else:\n",
    "            circle = plt.Circle((plX - x, pwY - y), r, color='b', alpha=0.2)\n",
    "    \n",
    "    ax.add_patch(circle)"
   ]
  },
  {
   "cell_type": "code",
   "execution_count": null,
   "metadata": {},
   "outputs": [],
   "source": []
  },
  {
   "cell_type": "code",
   "execution_count": 292,
   "metadata": {},
   "outputs": [],
   "source": [
    "# Football PitchViz\n",
    "\n",
    "from mplsoccer.pitch import Pitch\n",
    "\n",
    "# Setup the pitch\n",
    "pitch = Pitch(pitch_type='statsbomb', orientation='horizontal',\n",
    "              pitch_color='w', line_color='grey', figsize=(10, 5),\n",
    "              constrained_layout=False, tight_layout=True)\n",
    "\n",
    "# StatsBomb Pitch Dimensions in yards - 120 x 80\n",
    "# fig, ax = pitch.draw()"
   ]
  },
  {
   "cell_type": "code",
   "execution_count": 306,
   "metadata": {},
   "outputs": [
    {
     "data": {
      "image/png": "[encoded data removed]",
      "text/plain": [
       "<Figure size 720x360 with 1 Axes>"
      ]
     },
     "metadata": {},
     "output_type": "display_data"
    }
   ],
   "source": [
    "# Define Home (Red) and Away (Blue) Teams\n",
    "\n",
    "home_team = \"England Women's\"\n",
    "away_team = \"Sweden Women's\"\n",
    "\n",
    "# StatsBomb Pitch Dimensions in yards\n",
    "\n",
    "plX = 120\n",
    "pwY = 80\n",
    "\n",
    "# StatsBomb Pitch Dimensions in yards - 120 x 80\n",
    "\n",
    "fig, ax = pitch.draw()\n",
    "\n",
    "# Plot start location of all Sweden passes (left to right)\n",
    "\n",
    "plt.title('Sweden All pass locations', color='b', fontweight='bold')\n",
    "for index, passes in df_passes.iterrows():\n",
    "    x = passes['location'][0]\n",
    "    y = passes['location'][1]\n",
    "    r = 0.3\n",
    "    if passes['team.name'] == home_team:\n",
    "        continue\n",
    "    elif passes['team.name'] == away_team:\n",
    "        circle = plt.Circle((x, y), r, color='b', alpha=0.8)\n",
    "    ax.add_patch(circle)"
   ]
  },
  {
   "cell_type": "code",
   "execution_count": 294,
   "metadata": {},
   "outputs": [
    {
     "name": "stdout",
     "output_type": "stream",
     "text": [
      "['pass.recipient.id', 'pass.recipient.name', 'pass.length', 'pass.angle', 'pass.height.id', 'pass.height.name', 'pass.end_location', 'pass.body_part.id', 'pass.body_part.name', 'pass.type.id', 'pass.type.name', 'pass.outcome.id', 'pass.outcome.name', 'pass.deflected', 'pass.switch', 'pass.inswinging', 'pass.technique.id', 'pass.technique.name', 'pass.cross', 'pass.assisted_shot_id', 'pass.shot_assist', 'pass.through_ball', 'pass.goal_assist', 'pass.aerial_won', 'pass.cut_back', 'pass.no_touch', 'pass.straight']\n"
     ]
    }
   ],
   "source": [
    "pass_cols = [i for i in df_passes.columns if i.startswith('pass')]\n",
    "print(pass_cols)"
   ]
  },
  {
   "cell_type": "code",
   "execution_count": 326,
   "metadata": {},
   "outputs": [
    {
     "data": {
      "image/png": "[encoded data removed]",
      "text/plain": [
       "<Figure size 720x360 with 1 Axes>"
      ]
     },
     "metadata": {},
     "output_type": "display_data"
    }
   ],
   "source": [
    "# Define Home (Red) and Away (Blue) Teams\n",
    "\n",
    "home_team = \"England Women's\"\n",
    "away_team = \"Sweden Women's\"\n",
    "\n",
    "# StatsBomb Pitch Dimensions in yards\n",
    "\n",
    "plX = 120\n",
    "pwY = 80\n",
    "\n",
    "# StatsBomb Pitch Dimensions in yards - 120 x 80\n",
    "\n",
    "fig, ax = pitch.draw()\n",
    "\n",
    "# Plot pass map for all passes made by Sara Caroline Seger (Sweden)\n",
    "\n",
    "plt.title('Caroline Seger Passes vs England', color='b', fontweight='bold')\n",
    "for index, passes in df_passes.iterrows():\n",
    "    x_start = passes['location'][0]\n",
    "    y_start = passes['location'][1]\n",
    "    x_end = passes['pass.end_location'][0]\n",
    "    y_end = passes['pass.end_location'][1]\n",
    "    if passes['player.name'] == 'Sara Caroline Seger':\n",
    "        circle = plt.Circle((x_start, y_start), 0.8, color='b', alpha=0.2)\n",
    "        ax.add_patch(circle)\n",
    "        pass_arrow = plt.arrow(x_start, y_start, x_end - x_start, y_end - y_start, \n",
    "                               color='b', head_width=1, head_length=1, width=0.05)\n",
    "        ax.add_patch(pass_arrow)"
   ]
  },
  {
   "cell_type": "code",
   "execution_count": null,
   "metadata": {},
   "outputs": [],
   "source": []
  },
  {
   "cell_type": "code",
   "execution_count": null,
   "metadata": {},
   "outputs": [],
   "source": []
  },
  {
   "cell_type": "code",
   "execution_count": null,
   "metadata": {},
   "outputs": [],
   "source": []
  },
  {
   "cell_type": "code",
   "execution_count": null,
   "metadata": {},
   "outputs": [],
   "source": []
  }
 ],
 "metadata": {
  "kernelspec": {
   "display_name": "Python 3",
   "language": "python",
   "name": "python3"
  },
  "language_info": {
   "codemirror_mode": {
    "name": "ipython",
    "version": 3
   },
   "file_extension": ".py",
   "mimetype": "text/x-python",
   "name": "python",
   "nbconvert_exporter": "python",
   "pygments_lexer": "ipython3",
   "version": "3.8.3"
  }
 },
 "nbformat": 4,
 "nbformat_minor": 4
}
